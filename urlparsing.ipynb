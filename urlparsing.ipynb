{
 "cells": [
  {
   "cell_type": "code",
   "execution_count": 1,
   "id": "elementary-visit",
   "metadata": {},
   "outputs": [],
   "source": [
    "import csv\n",
    "import requests\n",
    "from bs4 import BeautifulSoup\n",
    "import pandas as pd\n",
    "\n",
    "i = 1\n",
    "\n",
    "urls = []\n",
    "\n",
    "while(i<=26):\n",
    "    \n",
    "    pn = 27 - i\n",
    "\n",
    "    #URLを指定\n",
    "    url = \"https://archive.ragtag.moe/channel/UC_a1ZYZ8ZTXpjg9xUY9sj8w?page=\" + str(pn)\n",
    "\n",
    "    #GETリクエストを送信\n",
    "    reqs = requests.get(url)\n",
    "\n",
    "    #URLをテキスト化し、解析を行う。その後BeautifulSoupオブジェクトを作る\n",
    "    soup = BeautifulSoup(reqs.text, 'html.parser')\n",
    "\n",
    "    #全てのaタグをループ処理し、hrefで指定されたURLを出力する\n",
    "    for link in soup.find_all('a'):\n",
    "        aa = link.get('href')\n",
    "        urls.append(aa)\n",
    "    i += 1\n",
    "\n",
    "df = pd.DataFrame(urls)\n",
    "df.to_csv('test2.csv')\n",
    "#with open('test.csv', 'w') as file:\n",
    "#    writer = csv.writer(file)  #, dialect='excel-tab', lineterminator='\\n')\n",
    "#    writer.writerows(urls)"
   ]
  },
  {
   "cell_type": "code",
   "execution_count": null,
   "id": "substantial-production",
   "metadata": {},
   "outputs": [],
   "source": []
  }
 ],
 "metadata": {
  "kernelspec": {
   "display_name": "Python 3 (ipykernel)",
   "language": "python",
   "name": "python3"
  },
  "language_info": {
   "codemirror_mode": {
    "name": "ipython",
    "version": 3
   },
   "file_extension": ".py",
   "mimetype": "text/x-python",
   "name": "python",
   "nbconvert_exporter": "python",
   "pygments_lexer": "ipython3",
   "version": "3.9.12"
  }
 },
 "nbformat": 4,
 "nbformat_minor": 5
}
